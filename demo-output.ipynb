{
 "cells": [
  {
   "cell_type": "markdown",
   "id": "c6a29764-f39c-431c-8e77-fbc6bfe20f01",
   "metadata": {},
   "source": [
    "# bibformat demo\n",
    "\n",
    "The purpose of this notebook is to demonstrate the functionality of `bibformat`.\n",
    "\n",
    "The demo is organised to show\n",
    "\n",
    "- Step 1: Explanation\n",
    "\n",
    "- Step 2: Explanation\n",
    "\n",
    "Note that when you submit a pull request, you should `clear all outputs` from your python notebook for a cleaner merge.\n"
   ]
  },
  {
   "cell_type": "code",
   "execution_count": 1,
   "id": "6a1920f3",
   "metadata": {
    "execution": {
     "iopub.execute_input": "2025-04-21T09:45:47.370189Z",
     "iopub.status.busy": "2025-04-21T09:45:47.370024Z",
     "iopub.status.idle": "2025-04-21T09:45:47.375014Z",
     "shell.execute_reply": "2025-04-21T09:45:47.374647Z"
    }
   },
   "outputs": [],
   "source": [
    "from pathlib import Path\n",
    "from bibformat import tools\n",
    "import importlib"
   ]
  },
  {
   "cell_type": "code",
   "execution_count": 2,
   "id": "f6051cc7",
   "metadata": {
    "execution": {
     "iopub.execute_input": "2025-04-21T09:45:47.376431Z",
     "iopub.status.busy": "2025-04-21T09:45:47.376276Z",
     "iopub.status.idle": "2025-04-21T09:45:47.436395Z",
     "shell.execute_reply": "2025-04-21T09:45:47.435967Z"
    }
   },
   "outputs": [
    {
     "name": "stdout",
     "output_type": "stream",
     "text": [
      "Reformatted and sorted .bib saved to: ../data/MIXL_reformatted.bib\n"
     ]
    }
   ],
   "source": [
    "importlib.reload(tools)\n",
    "tools.reformat_bib_file('../data/MIXL.bib')"
   ]
  },
  {
   "cell_type": "code",
   "execution_count": null,
   "id": "c6473ea5",
   "metadata": {},
   "outputs": [],
   "source": []
  }
 ],
 "metadata": {
  "kernelspec": {
   "display_name": "venv",
   "language": "python",
   "name": "python3"
  },
  "language_info": {
   "codemirror_mode": {
    "name": "ipython",
    "version": 3
   },
   "file_extension": ".py",
   "mimetype": "text/x-python",
   "name": "python",
   "nbconvert_exporter": "python",
   "pygments_lexer": "ipython3",
   "version": "3.13.3"
  }
 },
 "nbformat": 4,
 "nbformat_minor": 5
}
